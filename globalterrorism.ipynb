{
 "cells": [
  {
   "cell_type": "code",
   "execution_count": 43,
   "metadata": {
    "collapsed": true
   },
   "outputs": [],
   "source": [
    "import matplotlib.pyplot as plt\n",
    "import pandas as pd\n",
    "import numpy as np\n",
    "dataset = pd.read_excel('C:/globalterrorismdb.xlsx')"
   ]
  },
  {
   "cell_type": "code",
   "execution_count": 44,
   "metadata": {},
   "outputs": [
    {
     "data": {
      "text/html": [
       "<div>\n",
       "<style>\n",
       "    .dataframe thead tr:only-child th {\n",
       "        text-align: right;\n",
       "    }\n",
       "\n",
       "    .dataframe thead th {\n",
       "        text-align: left;\n",
       "    }\n",
       "\n",
       "    .dataframe tbody tr th {\n",
       "        vertical-align: top;\n",
       "    }\n",
       "</style>\n",
       "<table border=\"1\" class=\"dataframe\">\n",
       "  <thead>\n",
       "    <tr style=\"text-align: right;\">\n",
       "      <th></th>\n",
       "      <th>eventid</th>\n",
       "      <th>iyear</th>\n",
       "      <th>imonth</th>\n",
       "      <th>iday</th>\n",
       "      <th>approxdate</th>\n",
       "      <th>extended</th>\n",
       "      <th>resolution</th>\n",
       "      <th>country</th>\n",
       "      <th>country_txt</th>\n",
       "      <th>region</th>\n",
       "      <th>...</th>\n",
       "      <th>addnotes</th>\n",
       "      <th>scite1</th>\n",
       "      <th>scite2</th>\n",
       "      <th>scite3</th>\n",
       "      <th>dbsource</th>\n",
       "      <th>INT_LOG</th>\n",
       "      <th>INT_IDEO</th>\n",
       "      <th>INT_MISC</th>\n",
       "      <th>INT_ANY</th>\n",
       "      <th>related</th>\n",
       "    </tr>\n",
       "  </thead>\n",
       "  <tbody>\n",
       "    <tr>\n",
       "      <th>0</th>\n",
       "      <td>197000000001</td>\n",
       "      <td>1970</td>\n",
       "      <td>7</td>\n",
       "      <td>2</td>\n",
       "      <td>NaN</td>\n",
       "      <td>0</td>\n",
       "      <td>NaT</td>\n",
       "      <td>58</td>\n",
       "      <td>Dominican Republic</td>\n",
       "      <td>2</td>\n",
       "      <td>...</td>\n",
       "      <td>NaN</td>\n",
       "      <td>NaN</td>\n",
       "      <td>NaN</td>\n",
       "      <td>NaN</td>\n",
       "      <td>PGIS</td>\n",
       "      <td>0</td>\n",
       "      <td>0</td>\n",
       "      <td>0</td>\n",
       "      <td>0</td>\n",
       "      <td>NaN</td>\n",
       "    </tr>\n",
       "    <tr>\n",
       "      <th>1</th>\n",
       "      <td>197000000002</td>\n",
       "      <td>1970</td>\n",
       "      <td>0</td>\n",
       "      <td>0</td>\n",
       "      <td>NaN</td>\n",
       "      <td>0</td>\n",
       "      <td>NaT</td>\n",
       "      <td>130</td>\n",
       "      <td>Mexico</td>\n",
       "      <td>1</td>\n",
       "      <td>...</td>\n",
       "      <td>NaN</td>\n",
       "      <td>NaN</td>\n",
       "      <td>NaN</td>\n",
       "      <td>NaN</td>\n",
       "      <td>PGIS</td>\n",
       "      <td>0</td>\n",
       "      <td>1</td>\n",
       "      <td>1</td>\n",
       "      <td>1</td>\n",
       "      <td>NaN</td>\n",
       "    </tr>\n",
       "    <tr>\n",
       "      <th>2</th>\n",
       "      <td>197001000001</td>\n",
       "      <td>1970</td>\n",
       "      <td>1</td>\n",
       "      <td>0</td>\n",
       "      <td>NaN</td>\n",
       "      <td>0</td>\n",
       "      <td>NaT</td>\n",
       "      <td>160</td>\n",
       "      <td>Philippines</td>\n",
       "      <td>5</td>\n",
       "      <td>...</td>\n",
       "      <td>NaN</td>\n",
       "      <td>NaN</td>\n",
       "      <td>NaN</td>\n",
       "      <td>NaN</td>\n",
       "      <td>PGIS</td>\n",
       "      <td>-9</td>\n",
       "      <td>-9</td>\n",
       "      <td>1</td>\n",
       "      <td>1</td>\n",
       "      <td>NaN</td>\n",
       "    </tr>\n",
       "    <tr>\n",
       "      <th>3</th>\n",
       "      <td>197001000002</td>\n",
       "      <td>1970</td>\n",
       "      <td>1</td>\n",
       "      <td>0</td>\n",
       "      <td>NaN</td>\n",
       "      <td>0</td>\n",
       "      <td>NaT</td>\n",
       "      <td>78</td>\n",
       "      <td>Greece</td>\n",
       "      <td>8</td>\n",
       "      <td>...</td>\n",
       "      <td>NaN</td>\n",
       "      <td>NaN</td>\n",
       "      <td>NaN</td>\n",
       "      <td>NaN</td>\n",
       "      <td>PGIS</td>\n",
       "      <td>-9</td>\n",
       "      <td>-9</td>\n",
       "      <td>1</td>\n",
       "      <td>1</td>\n",
       "      <td>NaN</td>\n",
       "    </tr>\n",
       "    <tr>\n",
       "      <th>4</th>\n",
       "      <td>197001000003</td>\n",
       "      <td>1970</td>\n",
       "      <td>1</td>\n",
       "      <td>0</td>\n",
       "      <td>NaN</td>\n",
       "      <td>0</td>\n",
       "      <td>NaT</td>\n",
       "      <td>101</td>\n",
       "      <td>Japan</td>\n",
       "      <td>4</td>\n",
       "      <td>...</td>\n",
       "      <td>NaN</td>\n",
       "      <td>NaN</td>\n",
       "      <td>NaN</td>\n",
       "      <td>NaN</td>\n",
       "      <td>PGIS</td>\n",
       "      <td>-9</td>\n",
       "      <td>-9</td>\n",
       "      <td>1</td>\n",
       "      <td>1</td>\n",
       "      <td>NaN</td>\n",
       "    </tr>\n",
       "  </tbody>\n",
       "</table>\n",
       "<p>5 rows × 135 columns</p>\n",
       "</div>"
      ],
      "text/plain": [
       "        eventid  iyear  imonth  iday approxdate  extended resolution  country  \\\n",
       "0  197000000001   1970       7     2        NaN         0        NaT       58   \n",
       "1  197000000002   1970       0     0        NaN         0        NaT      130   \n",
       "2  197001000001   1970       1     0        NaN         0        NaT      160   \n",
       "3  197001000002   1970       1     0        NaN         0        NaT       78   \n",
       "4  197001000003   1970       1     0        NaN         0        NaT      101   \n",
       "\n",
       "          country_txt  region   ...    addnotes scite1 scite2  scite3  \\\n",
       "0  Dominican Republic       2   ...         NaN    NaN    NaN     NaN   \n",
       "1              Mexico       1   ...         NaN    NaN    NaN     NaN   \n",
       "2         Philippines       5   ...         NaN    NaN    NaN     NaN   \n",
       "3              Greece       8   ...         NaN    NaN    NaN     NaN   \n",
       "4               Japan       4   ...         NaN    NaN    NaN     NaN   \n",
       "\n",
       "   dbsource  INT_LOG  INT_IDEO INT_MISC INT_ANY  related  \n",
       "0      PGIS        0         0        0       0      NaN  \n",
       "1      PGIS        0         1        1       1      NaN  \n",
       "2      PGIS       -9        -9        1       1      NaN  \n",
       "3      PGIS       -9        -9        1       1      NaN  \n",
       "4      PGIS       -9        -9        1       1      NaN  \n",
       "\n",
       "[5 rows x 135 columns]"
      ]
     },
     "execution_count": 44,
     "metadata": {},
     "output_type": "execute_result"
    }
   ],
   "source": [
    "# Let's take a glimpse at the dataset\n",
    "dataset.head()"
   ]
  },
  {
   "cell_type": "code",
   "execution_count": 45,
   "metadata": {
    "scrolled": true
   },
   "outputs": [
    {
     "name": "stdout",
     "output_type": "stream",
     "text": [
      "<class 'pandas.core.frame.DataFrame'>\n",
      "RangeIndex: 170350 entries, 0 to 170349\n",
      "Columns: 135 entries, eventid to related\n",
      "dtypes: datetime64[ns](1), float64(53), int64(24), object(57)\n",
      "memory usage: 175.5+ MB\n"
     ]
    }
   ],
   "source": [
    "dataset.info()"
   ]
  },
  {
   "cell_type": "code",
   "execution_count": 46,
   "metadata": {
    "scrolled": true
   },
   "outputs": [
    {
     "name": "stdout",
     "output_type": "stream",
     "text": [
      "gsubname3           170337\n",
      "weapsubtype4_txt    170279\n",
      "weapsubtype4        170279\n",
      "weaptype4           170276\n",
      "weaptype4_txt       170276\n",
      "claimmode3          170230\n",
      "claimmode3_txt      170230\n",
      "gsubname2           170201\n",
      "claim3              170087\n",
      "guncertain3         170085\n",
      "gname3              170081\n",
      "divert              170037\n",
      "attacktype3         169976\n",
      "attacktype3_txt     169976\n",
      "ransomnote          169879\n",
      "ransompaidus        169863\n",
      "ransomamtus         169854\n",
      "claimmode2          169818\n",
      "claimmode2_txt      169818\n",
      "ransompaid          169643\n",
      "corp3               169466\n",
      "targsubtype3        169389\n",
      "targsubtype3_txt    169389\n",
      "natlty3             169344\n",
      "natlty3_txt         169344\n",
      "target3             169317\n",
      "targtype3           169316\n",
      "targtype3_txt       169316\n",
      "ransomamt           169071\n",
      "weapsubtype3_txt    168843\n",
      "                     ...  \n",
      "region                   0\n",
      "region_txt               0\n",
      "imonth                   0\n",
      "iday                     0\n",
      "country                  0\n",
      "INT_IDEO                 0\n",
      "INT_MISC                 0\n",
      "iyear                    0\n",
      "vicinity                 0\n",
      "extended                 0\n",
      "targtype1                0\n",
      "crit1                    0\n",
      "dbsource                 0\n",
      "INT_ANY                  0\n",
      "weaptype1                0\n",
      "weaptype1_txt            0\n",
      "gname                    0\n",
      "property                 0\n",
      "targtype1_txt            0\n",
      "individual               0\n",
      "INT_LOG                  0\n",
      "crit2                    0\n",
      "attacktype1_txt          0\n",
      "attacktype1              0\n",
      "suicide                  0\n",
      "success                  0\n",
      "multiple                 0\n",
      "doubtterr                0\n",
      "crit3                    0\n",
      "eventid                  0\n",
      "Length: 135, dtype: int64\n"
     ]
    }
   ],
   "source": [
    "# The categorization of our variables is as follows: float64(53), int64(24), object(57).\n",
    "# Next I would like to find out whether we have missing values\n",
    "missing = dataset.isnull().sum().sort_values(ascending = False)\n",
    "print(missing)"
   ]
  },
  {
   "cell_type": "code",
   "execution_count": 47,
   "metadata": {},
   "outputs": [
    {
     "name": "stdout",
     "output_type": "stream",
     "text": [
      "gsubname3           170337\n",
      "weapsubtype4_txt    170279\n",
      "weapsubtype4        170279\n",
      "weaptype4           170276\n",
      "weaptype4_txt       170276\n",
      "claimmode3          170230\n",
      "claimmode3_txt      170230\n",
      "gsubname2           170201\n",
      "claim3              170087\n",
      "guncertain3         170085\n",
      "gname3              170081\n",
      "divert              170037\n",
      "attacktype3         169976\n",
      "attacktype3_txt     169976\n",
      "ransomnote          169879\n",
      "ransompaidus        169863\n",
      "ransomamtus         169854\n",
      "claimmode2          169818\n",
      "claimmode2_txt      169818\n",
      "ransompaid          169643\n",
      "corp3               169466\n",
      "targsubtype3        169389\n",
      "targsubtype3_txt    169389\n",
      "natlty3             169344\n",
      "natlty3_txt         169344\n",
      "target3             169317\n",
      "targtype3           169316\n",
      "targtype3_txt       169316\n",
      "ransomamt           169071\n",
      "weapsubtype3_txt    168843\n",
      "                     ...  \n",
      "weaptype2_txt       158507\n",
      "weaptype2           158507\n",
      "nhostkidus          157913\n",
      "nhostkid            157858\n",
      "claimmode_txt       154102\n",
      "claimmode           154102\n",
      "related             147505\n",
      "addnotes            144911\n",
      "alternative         143719\n",
      "alternative_txt     143719\n",
      "propvalue           134863\n",
      "scite3              131133\n",
      "location            122376\n",
      "motive              121764\n",
      "propcomment         115919\n",
      "propextent          109805\n",
      "propextent_txt      109805\n",
      "scite2              100765\n",
      "ransom               94037\n",
      "nperps               71124\n",
      "nperpcap             69499\n",
      "nwoundte             68749\n",
      "nkillter             66663\n",
      "scite1               66200\n",
      "summary              66138\n",
      "claimed              66134\n",
      "nwoundus             64710\n",
      "nkillus              64459\n",
      "weapdetail           59385\n",
      "corp1                42565\n",
      "Length: 88, dtype: int64\n"
     ]
    }
   ],
   "source": [
    "# Many columns have a lot of missing values. I will choose to drop all columns that \n",
    "# have more than 20% of their size empty. The size is about 170000, that is why I\n",
    "# choose 30000\n",
    "missing20 = missing[missing > 30000 ]\n",
    "print(missing20)"
   ]
  },
  {
   "cell_type": "code",
   "execution_count": 48,
   "metadata": {
    "collapsed": true
   },
   "outputs": [],
   "source": [
    "# Next on, I will drop these 88 columns from the original dataset and create a new dataset \n",
    "# called dataset2\n",
    "dataset2 = dataset.drop(missing20.index , axis = 1)"
   ]
  },
  {
   "cell_type": "code",
   "execution_count": 49,
   "metadata": {},
   "outputs": [
    {
     "name": "stdout",
     "output_type": "stream",
     "text": [
      "<class 'pandas.core.frame.DataFrame'>\n",
      "RangeIndex: 170350 entries, 0 to 170349\n",
      "Data columns (total 47 columns):\n",
      "eventid             170350 non-null int64\n",
      "iyear               170350 non-null int64\n",
      "imonth              170350 non-null int64\n",
      "iday                170350 non-null int64\n",
      "extended            170350 non-null int64\n",
      "country             170350 non-null int64\n",
      "country_txt         170350 non-null object\n",
      "region              170350 non-null int64\n",
      "region_txt          170350 non-null object\n",
      "provstate           155848 non-null object\n",
      "city                169904 non-null object\n",
      "latitude            165744 non-null float64\n",
      "longitude           165744 non-null float64\n",
      "specificity         170346 non-null float64\n",
      "vicinity            170350 non-null int64\n",
      "crit1               170350 non-null int64\n",
      "crit2               170350 non-null int64\n",
      "crit3               170350 non-null int64\n",
      "doubtterr           170350 non-null int64\n",
      "multiple            170350 non-null int64\n",
      "success             170350 non-null int64\n",
      "suicide             170350 non-null int64\n",
      "attacktype1         170350 non-null int64\n",
      "attacktype1_txt     170350 non-null object\n",
      "targtype1           170350 non-null int64\n",
      "targtype1_txt       170350 non-null object\n",
      "targsubtype1        161005 non-null float64\n",
      "targsubtype1_txt    161005 non-null object\n",
      "target1             169716 non-null object\n",
      "natlty1             168956 non-null float64\n",
      "natlty1_txt         168956 non-null object\n",
      "gname               170350 non-null object\n",
      "guncertain1         169971 non-null float64\n",
      "individual          170350 non-null int64\n",
      "weaptype1           170350 non-null int64\n",
      "weaptype1_txt       170350 non-null object\n",
      "weapsubtype1        150924 non-null float64\n",
      "weapsubtype1_txt    150924 non-null object\n",
      "nkill               160668 non-null float64\n",
      "nwound              155025 non-null float64\n",
      "property            170350 non-null int64\n",
      "ishostkid           170172 non-null float64\n",
      "dbsource            170350 non-null object\n",
      "INT_LOG             170350 non-null int64\n",
      "INT_IDEO            170350 non-null int64\n",
      "INT_MISC            170350 non-null int64\n",
      "INT_ANY             170350 non-null int64\n",
      "dtypes: float64(10), int64(24), object(13)\n",
      "memory usage: 61.1+ MB\n"
     ]
    }
   ],
   "source": [
    "dataset2.info()"
   ]
  },
  {
   "cell_type": "code",
   "execution_count": 50,
   "metadata": {
    "scrolled": true
   },
   "outputs": [
    {
     "data": {
      "text/plain": [
       "eventid                 0\n",
       "success                 0\n",
       "suicide                 0\n",
       "attacktype1             0\n",
       "INT_MISC                0\n",
       "targtype1               0\n",
       "targtype1_txt           0\n",
       "multiple                0\n",
       "gname                   0\n",
       "weaptype1               0\n",
       "weaptype1_txt           0\n",
       "property                0\n",
       "dbsource                0\n",
       "INT_LOG                 0\n",
       "INT_IDEO                0\n",
       "individual              0\n",
       "doubtterr               0\n",
       "attacktype1_txt         0\n",
       "crit2                   0\n",
       "iyear                   0\n",
       "imonth                  0\n",
       "iday                    0\n",
       "extended                0\n",
       "country                 0\n",
       "country_txt             0\n",
       "region                  0\n",
       "crit3                   0\n",
       "region_txt              0\n",
       "INT_ANY                 0\n",
       "crit1                   0\n",
       "vicinity                0\n",
       "specificity             4\n",
       "ishostkid             178\n",
       "guncertain1           379\n",
       "city                  446\n",
       "target1               634\n",
       "natlty1              1394\n",
       "natlty1_txt          1394\n",
       "latitude             4606\n",
       "longitude            4606\n",
       "targsubtype1         9345\n",
       "targsubtype1_txt     9345\n",
       "nkill                9682\n",
       "provstate           14502\n",
       "nwound              15325\n",
       "weapsubtype1        19426\n",
       "weapsubtype1_txt    19426\n",
       "dtype: int64"
      ]
     },
     "execution_count": 50,
     "metadata": {},
     "output_type": "execute_result"
    }
   ],
   "source": [
    "# Now we are left with 47 columns. Let's explore it again\n",
    "dataset2.isnull().sum().sort_values()\n"
   ]
  },
  {
   "cell_type": "code",
   "execution_count": 51,
   "metadata": {
    "collapsed": true
   },
   "outputs": [],
   "source": [
    "# Still we have some missing values. What I choose to do is drop all rows with missing values\n",
    "# and create dataset3\n",
    "dataset3 = dataset2.dropna(axis = 0)"
   ]
  },
  {
   "cell_type": "code",
   "execution_count": 52,
   "metadata": {},
   "outputs": [
    {
     "data": {
      "text/plain": [
       "eventid             0\n",
       "iyear               0\n",
       "imonth              0\n",
       "iday                0\n",
       "extended            0\n",
       "country             0\n",
       "country_txt         0\n",
       "region              0\n",
       "region_txt          0\n",
       "provstate           0\n",
       "city                0\n",
       "latitude            0\n",
       "longitude           0\n",
       "specificity         0\n",
       "vicinity            0\n",
       "crit1               0\n",
       "crit2               0\n",
       "crit3               0\n",
       "doubtterr           0\n",
       "multiple            0\n",
       "success             0\n",
       "suicide             0\n",
       "attacktype1         0\n",
       "attacktype1_txt     0\n",
       "targtype1           0\n",
       "targtype1_txt       0\n",
       "targsubtype1        0\n",
       "targsubtype1_txt    0\n",
       "target1             0\n",
       "natlty1             0\n",
       "natlty1_txt         0\n",
       "gname               0\n",
       "guncertain1         0\n",
       "individual          0\n",
       "weaptype1           0\n",
       "weaptype1_txt       0\n",
       "weapsubtype1        0\n",
       "weapsubtype1_txt    0\n",
       "nkill               0\n",
       "nwound              0\n",
       "property            0\n",
       "ishostkid           0\n",
       "dbsource            0\n",
       "INT_LOG             0\n",
       "INT_IDEO            0\n",
       "INT_MISC            0\n",
       "INT_ANY             0\n",
       "dtype: int64"
      ]
     },
     "execution_count": 52,
     "metadata": {},
     "output_type": "execute_result"
    }
   ],
   "source": [
    "# Checking again for missing values\n",
    "dataset3.isnull().sum()"
   ]
  },
  {
   "cell_type": "code",
   "execution_count": 53,
   "metadata": {
    "collapsed": true
   },
   "outputs": [],
   "source": [
    "# Now , our dataset has NO missing values. Looking at the variables left, and after having\n",
    "# read the pdf with the analysis of each variable,  I will keep the following:\n",
    "#'extended','country','region','provstate','city','specificity','vicinity','crit1',crit2',\n",
    "#'crit3', 'multiple','success','suicide','attacktype1','targtype1','natlty1','guncertain1',\n",
    "#'individual','weaptype1', 'nkill','nwound','property','ishostkid', 'gname'   "
   ]
  },
  {
   "cell_type": "code",
   "execution_count": 54,
   "metadata": {
    "collapsed": true
   },
   "outputs": [],
   "source": [
    "# Creating dataset4\n",
    "dataset4 = dataset3[['extended','country','region','provstate','city','specificity','vicinity','crit1','crit2',\n",
    "'crit3', 'multiple','success','suicide','attacktype1','targtype1','natlty1','guncertain1',\n",
    "'individual','weaptype1', 'nkill','nwound','property','ishostkid', 'gname']] "
   ]
  },
  {
   "cell_type": "code",
   "execution_count": 55,
   "metadata": {
    "scrolled": true
   },
   "outputs": [
    {
     "name": "stdout",
     "output_type": "stream",
     "text": [
      "(2463,)\n"
     ]
    }
   ],
   "source": [
    "# Our target variable is 'gname'.Let's explore it a little bit more.\n",
    "groups = dataset4['gname'].value_counts().sort_values(ascending = False)\n",
    "print(groups.shape)"
   ]
  },
  {
   "cell_type": "code",
   "execution_count": 56,
   "metadata": {},
   "outputs": [
    {
     "data": {
      "text/plain": [
       "(85,)"
      ]
     },
     "execution_count": 56,
     "metadata": {},
     "output_type": "execute_result"
    }
   ],
   "source": [
    "# There are 2463 different names of terrorist organisations..... Meaning that if we construct\n",
    "# a  classifier, we must have 2463 different classes. That is a lot of classes\n",
    "# My choice is to keep those terrorist organizations that have performed at least 100 attempts\n",
    "# I will create a Series object with the groups that have more than 100 attacks\n",
    "finalgroups = groups[groups>100]\n",
    "finalgroups.shape\n",
    "# We are left with the \"top85\" terrorist groups"
   ]
  },
  {
   "cell_type": "code",
   "execution_count": 57,
   "metadata": {
    "collapsed": true
   },
   "outputs": [],
   "source": [
    "\n",
    "\n",
    "\n",
    "\n",
    "\n",
    "\n",
    "\n",
    "\n",
    "\n",
    "\n",
    "#\n",
    "\n",
    "#################################################################################################################\n",
    "################################################################################################################\n",
    "#########apo edw kai katw exoume preprocessing gia ANN, to opoio den petyxe tpt, 57% akribeia###########\n",
    "\n",
    "\n"
   ]
  },
  {
   "cell_type": "code",
   "execution_count": 58,
   "metadata": {},
   "outputs": [
    {
     "data": {
      "text/plain": [
       "Index(['Unknown', 'Taliban', 'Shining Path (SL)',\n",
       "       'Islamic State of Iraq and the Levant (ISIL)',\n",
       "       'New People's Army (NPA)',\n",
       "       'Revolutionary Armed Forces of Colombia (FARC)', 'Al-Shabaab',\n",
       "       'Kurdistan Workers' Party (PKK)', 'Basque Fatherland and Freedom (ETA)',\n",
       "       'Communist Party of India - Maoist (CPI-Maoist)', 'Boko Haram',\n",
       "       'Irish Republican Army (IRA)',\n",
       "       'Liberation Tigers of Tamil Eelam (LTTE)', 'Maoists',\n",
       "       'Tehrik-i-Taliban Pakistan (TTP)',\n",
       "       'National Liberation Army of Colombia (ELN)',\n",
       "       'Al-Qaida in the Arabian Peninsula (AQAP)', 'Palestinians',\n",
       "       'Manuel Rodriguez Patriotic Front (FPMR)', 'Al-Qaida in Iraq',\n",
       "       'Sikh Extremists', 'Houthi extremists (Ansar Allah)',\n",
       "       'Donetsk People's Republic',\n",
       "       'Corsican National Liberation Front (FLNC)',\n",
       "       'Tupac Amaru Revolutionary Movement (MRTA)', 'Separatists',\n",
       "       'Muslim extremists', 'African National Congress (South Africa)',\n",
       "       'Abu Sayyaf Group (ASG)', 'People's Liberation Front (JVP)',\n",
       "       'Narco-Terrorists', 'Palestinian Extremists',\n",
       "       'Hamas (Islamic Resistance Movement)',\n",
       "       'National Union for the Total Independence of Angola (UNITA)',\n",
       "       'M-19 (Movement of April 19)', 'Baloch Republican Army (BRA)',\n",
       "       'Hezbollah', 'United Liberation Front of Assam (ULFA)',\n",
       "       'Sinai Province of the Islamic State',\n",
       "       'Bangsamoro Islamic Freedom Movement (BIFM)', 'Chechen Rebels',\n",
       "       'Moro Islamic Liberation Front (MILF)', 'Gunmen',\n",
       "       'Mozambique National Resistance Movement (MNR)',\n",
       "       'Al-Qaida in the Islamic Maghreb (AQIM)', 'Dev Sol',\n",
       "       'Fulani extremists', 'Anti-Abortion extremists',\n",
       "       'First of October Antifascist Resistance Group (GRAPO)',\n",
       "       'Popular Liberation Army (EPL)', 'Left-Wing Militants',\n",
       "       'Luhansk People's Republic',\n",
       "       'Salafist Group for Preaching and Fighting (GSPC)', 'Death Squad',\n",
       "       'Simon Bolivar Guerrilla Coordinating Board (CGSB)',\n",
       "       'Tripoli Province of the Islamic State', 'Baloch Liberation Army (BLA)',\n",
       "       'Red Brigades', 'Palestinian Islamic Jihad (PIJ)',\n",
       "       'Movement of the Revolutionary Left (MIR) (Chile)',\n",
       "       'Hizbul Mujahideen (HM)', 'Baloch Liberation Front (BLF)',\n",
       "       'Lashkar-e-Taiba (LeT)',\n",
       "       'Farabundo Marti National Liberation Front (FMLN)',\n",
       "       'Khorasan Chapter of the Islamic State', 'Al-Aqsa Martyrs Brigade',\n",
       "       'Moro National Liberation Front (MNLF)',\n",
       "       'National Democratic Front of Bodoland (NDFB)',\n",
       "       'Garo National Liberation Army', 'Islamic State of Iraq (ISI)',\n",
       "       'Runda Kumpulan Kecil (RKK)', 'Palestine Liberation Organization (PLO)',\n",
       "       'Al-Nusrah Front', 'Lashkar-e-Jhangvi', 'Tamils',\n",
       "       'Allied Democratic Forces (ADF)',\n",
       "       'Armenian Secret Army for the Liberation of Armenia',\n",
       "       'Muttahida Qami Movement (MQM)', 'Lord's Resistance Army (LRA)',\n",
       "       'Barqa Province of the Islamic State',\n",
       "       'November 17 Revolutionary Organization (N17RO)',\n",
       "       'Popular Front for the Liberation of Palestine (PFLP)',\n",
       "       'Corsican National Liberation Front- Historic Channel',\n",
       "       'Muslim Militants', 'Armed Islamic Group (GIA)'],\n",
       "      dtype='object')"
      ]
     },
     "execution_count": 58,
     "metadata": {},
     "output_type": "execute_result"
    }
   ],
   "source": [
    "# Next on  I will create a dictionary, with the names of the groups, so that I can map\n",
    "# my dataset, keeping those lines, where the gname column has elements of my dictionary\n",
    "# meaning the names of the groups I chose. The names are the index of the finalgroups \n",
    "finalgroups.index"
   ]
  },
  {
   "cell_type": "code",
   "execution_count": 59,
   "metadata": {},
   "outputs": [
    {
     "ename": "SyntaxError",
     "evalue": "invalid syntax (<ipython-input-59-0c9f7592b6e0>, line 5)",
     "output_type": "error",
     "traceback": [
      "\u001b[1;36m  File \u001b[1;32m\"<ipython-input-59-0c9f7592b6e0>\"\u001b[1;36m, line \u001b[1;32m5\u001b[0m\n\u001b[1;33m    'New People's Army (NPA)',\u001b[0m\n\u001b[1;37m                ^\u001b[0m\n\u001b[1;31mSyntaxError\u001b[0m\u001b[1;31m:\u001b[0m invalid syntax\n"
     ]
    }
   ],
   "source": [
    "# I will just copy and paste everything, into the dictionary groupnames\n",
    "\n",
    "groupnames = {'Unknown', 'Taliban', 'Shining Path (SL)',\n",
    "       'Islamic State of Iraq and the Levant (ISIL)',\n",
    "       'New People's Army (NPA)',\n",
    "       'Revolutionary Armed Forces of Colombia (FARC)', 'Al-Shabaab',\n",
    "       'Kurdistan Workers' Party (PKK)', 'Basque Fatherland and Freedom (ETA)',\n",
    "       'Communist Party of India - Maoist (CPI-Maoist)', 'Boko Haram',\n",
    "       'Irish Republican Army (IRA)',\n",
    "       'Liberation Tigers of Tamil Eelam (LTTE)', 'Maoists',\n",
    "       'Tehrik-i-Taliban Pakistan (TTP)',\n",
    "       'National Liberation Army of Colombia (ELN)',\n",
    "       'Al-Qaida in the Arabian Peninsula (AQAP)', 'Palestinians',\n",
    "       'Manuel Rodriguez Patriotic Front (FPMR)', 'Al-Qaida in Iraq',\n",
    "       'Sikh Extremists', 'Houthi extremists (Ansar Allah)',\n",
    "       'Donetsk People's Republic',\n",
    "       'Corsican National Liberation Front (FLNC)',\n",
    "       'Tupac Amaru Revolutionary Movement (MRTA)', 'Separatists',\n",
    "       'Muslim extremists', 'African National Congress (South Africa)',\n",
    "       'Abu Sayyaf Group (ASG)', 'People's Liberation Front (JVP)',\n",
    "       'Narco-Terrorists', 'Palestinian Extremists',\n",
    "       'Hamas (Islamic Resistance Movement)',\n",
    "       'National Union for the Total Independence of Angola (UNITA)',\n",
    "       'M-19 (Movement of April 19)', 'Baloch Republican Army (BRA)',\n",
    "       'Hezbollah', 'United Liberation Front of Assam (ULFA)',\n",
    "       'Sinai Province of the Islamic State',\n",
    "       'Bangsamoro Islamic Freedom Movement (BIFM)', 'Chechen Rebels',\n",
    "       'Moro Islamic Liberation Front (MILF)', 'Gunmen',\n",
    "       'Mozambique National Resistance Movement (MNR)',\n",
    "       'Al-Qaida in the Islamic Maghreb (AQIM)', 'Dev Sol',\n",
    "       'Fulani extremists', 'Anti-Abortion extremists',\n",
    "       'First of October Antifascist Resistance Group (GRAPO)',\n",
    "       'Left-Wing Militants', 'Popular Liberation Army (EPL)',\n",
    "       'Luhansk People's Republic',\n",
    "       'Salafist Group for Preaching and Fighting (GSPC)', 'Death Squad',\n",
    "       'Simon Bolivar Guerrilla Coordinating Board (CGSB)',\n",
    "       'Tripoli Province of the Islamic State', 'Baloch Liberation Army (BLA)',\n",
    "       'Red Brigades', 'Palestinian Islamic Jihad (PIJ)',\n",
    "       'Movement of the Revolutionary Left (MIR) (Chile)',\n",
    "       'Hizbul Mujahideen (HM)', 'Baloch Liberation Front (BLF)',\n",
    "       'Lashkar-e-Taiba (LeT)',\n",
    "       'Farabundo Marti National Liberation Front (FMLN)',\n",
    "       'Khorasan Chapter of the Islamic State', 'Al-Aqsa Martyrs Brigade',\n",
    "       'Moro National Liberation Front (MNLF)',\n",
    "       'National Democratic Front of Bodoland (NDFB)',\n",
    "       'Garo National Liberation Army', 'Islamic State of Iraq (ISI)',\n",
    "       'Runda Kumpulan Kecil (RKK)', 'Al-Nusrah Front',\n",
    "       'Palestine Liberation Organization (PLO)', 'Lashkar-e-Jhangvi',\n",
    "       'Tamils', 'Allied Democratic Forces (ADF)',\n",
    "       'Armenian Secret Army for the Liberation of Armenia',\n",
    "       'Lord's Resistance Army (LRA)', 'Muttahida Qami Movement (MQM)',\n",
    "       'Barqa Province of the Islamic State',\n",
    "       'November 17 Revolutionary Organization (N17RO)',\n",
    "       'Popular Front for the Liberation of Palestine (PFLP)',\n",
    "       'Corsican National Liberation Front- Historic Channel',\n",
    "       'Muslim Militants', 'Armed Islamic Group (GIA)'}"
   ]
  },
  {
   "cell_type": "code",
   "execution_count": null,
   "metadata": {},
   "outputs": [],
   "source": [
    "# There is a problem. Many names have the  \" ' \", apostrophe , which \"confuses\" the \n",
    "# dictionary. I must manipulate the gname column. I will replace the apostrophe with\n",
    "# a blank character\n",
    "dataset4['gname'] = dataset4['gname'].str.replace(\"'\", ' ')"
   ]
  },
  {
   "cell_type": "code",
   "execution_count": null,
   "metadata": {
    "collapsed": true
   },
   "outputs": [],
   "source": [
    "# Now, I will restart the whole process \n",
    "groups2 = dataset4['gname'].value_counts().sort_values(ascending = False)"
   ]
  },
  {
   "cell_type": "code",
   "execution_count": null,
   "metadata": {},
   "outputs": [],
   "source": [
    "finalgroups2 = groups2[groups2>100]\n",
    "print(finalgroups2)"
   ]
  },
  {
   "cell_type": "code",
   "execution_count": null,
   "metadata": {},
   "outputs": [],
   "source": [
    "# We can see that, for example, New People's Army, fifth on the list, has been \n",
    "# transformed to New People s Army. So, I will use the index of finalgroups2\n",
    "# and paste it into my dictionary:\n",
    "finalgroups2.index"
   ]
  },
  {
   "cell_type": "code",
   "execution_count": null,
   "metadata": {
    "collapsed": true
   },
   "outputs": [],
   "source": [
    "groupnames = {'Unknown', 'Taliban', 'Shining Path (SL)',\n",
    "       'Islamic State of Iraq and the Levant (ISIL)',\n",
    "       'New People s Army (NPA)',\n",
    "       'Revolutionary Armed Forces of Colombia (FARC)', 'Al-Shabaab',\n",
    "       'Kurdistan Workers  Party (PKK)', 'Basque Fatherland and Freedom (ETA)',\n",
    "       'Communist Party of India - Maoist (CPI-Maoist)', 'Boko Haram',\n",
    "       'Irish Republican Army (IRA)',\n",
    "       'Liberation Tigers of Tamil Eelam (LTTE)', 'Maoists',\n",
    "       'Tehrik-i-Taliban Pakistan (TTP)',\n",
    "       'National Liberation Army of Colombia (ELN)',\n",
    "       'Al-Qaida in the Arabian Peninsula (AQAP)', 'Palestinians',\n",
    "       'Manuel Rodriguez Patriotic Front (FPMR)', 'Al-Qaida in Iraq',\n",
    "       'Sikh Extremists', 'Houthi extremists (Ansar Allah)',\n",
    "       'Donetsk People s Republic',\n",
    "       'Corsican National Liberation Front (FLNC)',\n",
    "       'Tupac Amaru Revolutionary Movement (MRTA)', 'Separatists',\n",
    "       'Muslim extremists', 'African National Congress (South Africa)',\n",
    "       'Abu Sayyaf Group (ASG)', 'People s Liberation Front (JVP)',\n",
    "       'Narco-Terrorists', 'Palestinian Extremists',\n",
    "       'Hamas (Islamic Resistance Movement)',\n",
    "       'National Union for the Total Independence of Angola (UNITA)',\n",
    "       'M-19 (Movement of April 19)', 'Baloch Republican Army (BRA)',\n",
    "       'Hezbollah', 'United Liberation Front of Assam (ULFA)',\n",
    "       'Sinai Province of the Islamic State',\n",
    "       'Bangsamoro Islamic Freedom Movement (BIFM)', 'Chechen Rebels',\n",
    "       'Moro Islamic Liberation Front (MILF)', 'Gunmen',\n",
    "       'Mozambique National Resistance Movement (MNR)',\n",
    "       'Al-Qaida in the Islamic Maghreb (AQIM)', 'Dev Sol',\n",
    "       'Fulani extremists', 'Anti-Abortion extremists',\n",
    "       'First of October Antifascist Resistance Group (GRAPO)',\n",
    "       'Popular Liberation Army (EPL)', 'Left-Wing Militants',\n",
    "       'Salafist Group for Preaching and Fighting (GSPC)',\n",
    "       'Luhansk People s Republic', 'Death Squad',\n",
    "       'Simon Bolivar Guerrilla Coordinating Board (CGSB)',\n",
    "       'Tripoli Province of the Islamic State', 'Baloch Liberation Army (BLA)',\n",
    "       'Red Brigades', 'Palestinian Islamic Jihad (PIJ)',\n",
    "       'Movement of the Revolutionary Left (MIR) (Chile)',\n",
    "       'Hizbul Mujahideen (HM)', 'Baloch Liberation Front (BLF)',\n",
    "       'Lashkar-e-Taiba (LeT)',\n",
    "       'Farabundo Marti National Liberation Front (FMLN)',\n",
    "       'Khorasan Chapter of the Islamic State', 'Al-Aqsa Martyrs Brigade',\n",
    "       'Moro National Liberation Front (MNLF)',\n",
    "       'National Democratic Front of Bodoland (NDFB)',\n",
    "       'Garo National Liberation Army', 'Islamic State of Iraq (ISI)',\n",
    "       'Runda Kumpulan Kecil (RKK)', 'Palestine Liberation Organization (PLO)',\n",
    "       'Al-Nusrah Front', 'Lashkar-e-Jhangvi', 'Tamils',\n",
    "       'Allied Democratic Forces (ADF)',\n",
    "       'Armenian Secret Army for the Liberation of Armenia',\n",
    "       'Lord s Resistance Army (LRA)', 'Muttahida Qami Movement (MQM)',\n",
    "       'Barqa Province of the Islamic State',\n",
    "       'November 17 Revolutionary Organization (N17RO)',\n",
    "       'Corsican National Liberation Front- Historic Channel',\n",
    "       'Popular Front for the Liberation of Palestine (PFLP)',\n",
    "       'Muslim Militants', 'Armed Islamic Group (GIA)'}"
   ]
  },
  {
   "cell_type": "code",
   "execution_count": null,
   "metadata": {
    "collapsed": true
   },
   "outputs": [],
   "source": [
    "# Mapping of the dataset, as prementioned\n",
    "dataset5 = dataset4.loc[dataset4['gname'].isin(groupnames)]"
   ]
  },
  {
   "cell_type": "code",
   "execution_count": null,
   "metadata": {},
   "outputs": [],
   "source": [
    "dataset5.info()\n"
   ]
  },
  {
   "cell_type": "code",
   "execution_count": null,
   "metadata": {},
   "outputs": [],
   "source": [
    "# After all these procedures, we have a dataset of 103375 rows and 24 columns.\n",
    "# I will label my target variable, because it is a name, and call it newy\n",
    "from sklearn.preprocessing import LabelEncoder, OneHotEncoder\n",
    "labelencoder = LabelEncoder()\n",
    "dataset5['newy'] = labelencoder.fit_transform(dataset5['gname'])"
   ]
  },
  {
   "cell_type": "code",
   "execution_count": null,
   "metadata": {},
   "outputs": [],
   "source": [
    "# Ok, now that we have transformed our y variable, let's seeif there are any object columns\n",
    "# that need transformation\n",
    "text_cols = dataset5.select_dtypes(include=['object']).columns\n",
    "print(text_cols)"
   ]
  },
  {
   "cell_type": "code",
   "execution_count": null,
   "metadata": {},
   "outputs": [],
   "source": [
    "# gname, has already been labeled.I will also label city and provstate as I did with \n",
    "# the target variable\n",
    "dataset5['newcity'] = labelencoder.fit_transform(dataset5['city'])\n",
    "dataset5['newprovstate'] = labelencoder.fit_transform(dataset5['provstate'])"
   ]
  },
  {
   "cell_type": "code",
   "execution_count": null,
   "metadata": {
    "collapsed": true
   },
   "outputs": [],
   "source": [
    "# Next I will drop the original columns\n",
    "dataset5 = dataset5.drop(['city', 'provstate'] ,axis = 1)"
   ]
  },
  {
   "cell_type": "code",
   "execution_count": null,
   "metadata": {
    "collapsed": true
   },
   "outputs": [],
   "source": [
    "# Next, for ease purposes I will add the newy column, as y2, at the end of our dataset\n",
    "# and simultaneously drop both gname and newy\n",
    "dataset5['y2'] = dataset5['newy']\n",
    "dataset5 = dataset5.drop(['gname' , 'newy'] ,axis = 1)"
   ]
  },
  {
   "cell_type": "code",
   "execution_count": null,
   "metadata": {
    "collapsed": true
   },
   "outputs": [],
   "source": [
    "# Construction of features and target variable.\n",
    "# Our x variable consists of the first 23 columns\n",
    "X = dataset5.iloc[:, 0:23].values\n",
    "y = dataset5.iloc[:, 23].values"
   ]
  },
  {
   "cell_type": "code",
   "execution_count": null,
   "metadata": {
    "collapsed": true
   },
   "outputs": [],
   "source": [
    "# Imputing any missing data, just in case\n",
    "from sklearn.preprocessing import Imputer\n",
    "imputer = Imputer(missing_values = 'NaN', strategy = 'mean', axis=0)\n",
    "imputer = imputer.fit(X)\n",
    "X = imputer.transform(X)"
   ]
  },
  {
   "cell_type": "code",
   "execution_count": null,
   "metadata": {
    "collapsed": true
   },
   "outputs": [],
   "source": [
    "# splitting the dataset\n",
    "from sklearn.model_selection import train_test_split\n",
    "X_train, X_test , y_train , y_test = train_test_split(X, y , test_size=0.2, random_state = 0)"
   ]
  },
  {
   "cell_type": "code",
   "execution_count": null,
   "metadata": {
    "collapsed": true
   },
   "outputs": [],
   "source": [
    "import os\n",
    "\n",
    "mingw_path = 'C:\\\\Program Files\\\\mingw-w64\\\\x86_64-7.2.0-posix-seh-rt_v5-rev1\\\\mingw64\\\\bin'\n",
    "\n",
    "\n",
    "os.environ['PATH'] = mingw_path + ';' + os.environ['PATH']\n",
    "\n",
    "\n",
    "os.environ['PATH'] = mingw_path + ';' + os.environ['PATH']\n",
    "\n",
    "import xgboost as xgb"
   ]
  },
  {
   "cell_type": "code",
   "execution_count": null,
   "metadata": {},
   "outputs": [],
   "source": [
    "# I will test 4 classifiers, and see whic one performs better\n",
    "\n",
    "from sklearn.ensemble import RandomForestClassifier\n",
    "classifier1 = RandomForestClassifier(random_state = 42)\n",
    "from sklearn.linear_model import LogisticRegression\n",
    "classifier2 = LogisticRegression(random_state=42)\n",
    "import xgboost as xgb\n",
    "from xgboost import XGBClassifier\n",
    "classifier3 = XGBClassifier(random_state = 42)\n",
    "from sklearn.naive_bayes import GaussianNB\n",
    "classifier4 = GaussianNB()\n",
    "classifierslist = [classifier1, classifier2, classifier3, classifier4]\n",
    "acclist = []\n",
    "\n",
    "\n",
    "for classifier in classifierslist:\n",
    "    classifier.fit(X_train, y_train)\n",
    "    y_pred = classifier.predict(X_test)  \n",
    "    from sklearn.metrics import accuracy_score\n",
    "    acc = accuracy_score(y_test, y_pred)\n",
    "    from sklearn.metrics import confusion_matrix\n",
    "    cm = confusion_matrix(y_test, y_pred)\n",
    "    from sklearn.metrics import classification_report\n",
    "    clsfrprt = classification_report(y_test, y_pred)\n",
    "    acclist.append(acc)\n",
    "    print(cm)"
   ]
  },
  {
   "cell_type": "code",
   "execution_count": 84,
   "metadata": {},
   "outputs": [
    {
     "name": "stdout",
     "output_type": "stream",
     "text": [
      "[0.76367593712212822, 0.62505441354292623, 0.77199516324062878, 0.26307134220072553]\n"
     ]
    }
   ],
   "source": [
    "print(acclist)"
   ]
  },
  {
   "cell_type": "code",
   "execution_count": 83,
   "metadata": {
    "collapsed": true
   },
   "outputs": [],
   "source": [
    "# Looking at the accuracy list, we have achieved a 76.3 accuracy using the Random Forest\n",
    "# and a 77,2 with XGB, I will select the Random Forest, and try to optimize\n",
    "# two very common hyperparameters\n",
    "\n",
    "accuracy = []\n",
    "n_estimators = [20,50,75,100,200]\n",
    "for i in n_estimators:\n",
    "    classifier = RandomForestClassifier(random_state = 42 , n_estimators = i)\n",
    "    classifier.fit(X_train, y_train)\n",
    "    y_pred = classifier.predict(X_test)\n",
    "    from sklearn.metrics import accuracy_score\n",
    "    acc = accuracy_score(y_test, y_pred)\n",
    "    accuracy.append(acc)  "
   ]
  },
  {
   "cell_type": "code",
   "execution_count": 85,
   "metadata": {},
   "outputs": [
    {
     "name": "stdout",
     "output_type": "stream",
     "text": [
      "[0.76740024183796851, 0.76967351874244261, 0.77359129383313185, 0.77533252720677148, 0.77484885126964931]\n"
     ]
    }
   ],
   "source": [
    "print(accuracy)"
   ]
  },
  {
   "cell_type": "code",
   "execution_count": 67,
   "metadata": {},
   "outputs": [],
   "source": [
    "# We can see that there is an improvement , in comparison with the default\n",
    "# 10 estimators, but it seems that it si declining, after the 100 estimators.\n",
    "# So, I will keep the 100 estimators and will improve the next hyperparameter\n",
    "# max leaf nodes\n",
    "accuracy2 = []\n",
    "trees = [500,1000,2000,5000,10000,20000]\n",
    "for i in trees:\n",
    "    classifier = RandomForestClassifier(random_state = 42 , n_estimators = 100, max_leaf_nodes= i)\n",
    "    classifier.fit(X_train, y_train)\n",
    "    y_pred = classifier.predict(X_test)\n",
    "    from sklearn.metrics import accuracy_score\n",
    "    acc = accuracy_score(y_test, y_pred)\n",
    "    accuracy2.append(acc) \n"
   ]
  },
  {
   "cell_type": "code",
   "execution_count": 68,
   "metadata": {},
   "outputs": [
    {
     "name": "stdout",
     "output_type": "stream",
     "text": [
      "[0.73770253929866991, 0.75400241837968562, 0.76778718258766632, 0.7811850060459492, 0.78892382103990322, 0.78099153567110036]\n"
     ]
    }
   ],
   "source": [
    "print(accuracy2)"
   ]
  },
  {
   "cell_type": "code",
   "execution_count": 75,
   "metadata": {},
   "outputs": [
    {
     "data": {
      "text/plain": [
       "<matplotlib.axes._subplots.AxesSubplot at 0x21b6e12b0>"
      ]
     },
     "execution_count": 75,
     "metadata": {},
     "output_type": "execute_result"
    },
    {
     "data": {
      "image/png": "[encoded data removed]",
      "text/plain": [
       "<matplotlib.figure.Figure at 0x21b6e04e0>"
      ]
     },
     "metadata": {},
     "output_type": "display_data"
    }
   ],
   "source": [
    "pd.Series(accuracy2, trees).plot(color = 'green')"
   ]
  },
  {
   "cell_type": "code",
   "execution_count": 87,
   "metadata": {},
   "outputs": [
    {
     "name": "stderr",
     "output_type": "stream",
     "text": [
      "C:\\Users\\tolaros\\Anaconda3\\lib\\site-packages\\sklearn\\metrics\\classification.py:1135: UndefinedMetricWarning: Precision and F-score are ill-defined and being set to 0.0 in labels with no predicted samples.\n",
      "  'precision', 'predicted', average, warn_for)\n"
     ]
    }
   ],
   "source": [
    "# So our final form is \n",
    "classifier = RandomForestClassifier(random_state = 42 , n_estimators = 100, max_leaf_nodes= 10000)\n",
    "# Let's run it and take a look at the classsification report\n",
    "classifier.fit(X_train, y_train)\n",
    "y_pred = classifier.predict(X_test)  \n",
    "from sklearn.metrics import classification_report\n",
    "clsfrprt = classification_report(y_test, y_pred)\n"
   ]
  },
  {
   "cell_type": "code",
   "execution_count": 88,
   "metadata": {},
   "outputs": [
    {
     "name": "stdout",
     "output_type": "stream",
     "text": [
      "             precision    recall  f1-score   support\n",
      "\n",
      "          0       0.78      0.51      0.62        71\n",
      "          1       0.69      0.27      0.39        82\n",
      "          2       0.20      0.08      0.11        26\n",
      "          3       1.00      0.19      0.32        26\n",
      "          4       0.59      0.28      0.38       106\n",
      "          5       0.78      0.66      0.71       148\n",
      "          6       0.88      0.15      0.25        48\n",
      "          7       0.85      0.76      0.81       348\n",
      "          8       0.86      0.75      0.80        16\n",
      "          9       0.85      0.88      0.86        32\n",
      "         10       0.60      0.47      0.53        19\n",
      "         11       1.00      0.09      0.17        22\n",
      "         12       0.75      0.10      0.18        29\n",
      "         13       0.00      0.00      0.00        29\n",
      "         14       0.64      0.16      0.25        44\n",
      "         15       0.77      0.37      0.50        54\n",
      "         16       0.67      0.19      0.30        21\n",
      "         17       0.82      0.96      0.88       300\n",
      "         18       0.89      0.87      0.88       279\n",
      "         19       0.87      0.60      0.71        45\n",
      "         20       0.76      0.75      0.76       307\n",
      "         21       0.89      0.59      0.71        99\n",
      "         22       0.70      0.67      0.68        21\n",
      "         23       0.65      0.54      0.59        28\n",
      "         24       0.71      0.30      0.42        40\n",
      "         25       0.68      0.77      0.72       103\n",
      "         26       0.95      0.97      0.96        38\n",
      "         27       0.42      0.20      0.27        25\n",
      "         28       0.92      0.50      0.65        44\n",
      "         29       0.67      0.15      0.25        26\n",
      "         30       0.00      0.00      0.00        38\n",
      "         31       0.48      0.32      0.38        66\n",
      "         32       0.71      0.40      0.51        67\n",
      "         33       0.50      0.05      0.09        39\n",
      "         34       0.81      0.67      0.73        99\n",
      "         35       0.84      0.93      0.88       246\n",
      "         36       0.29      0.07      0.11        30\n",
      "         37       0.81      0.44      0.57       572\n",
      "         38       0.00      0.00      0.00        22\n",
      "         39       0.84      0.93      0.88       298\n",
      "         40       0.57      0.14      0.23        28\n",
      "         41       0.33      0.07      0.12        27\n",
      "         42       0.85      0.71      0.77        31\n",
      "         43       0.82      0.92      0.87       263\n",
      "         44       0.93      0.50      0.65        26\n",
      "         45       0.73      0.24      0.36        33\n",
      "         46       0.35      0.27      0.31        55\n",
      "         47       0.65      0.52      0.58       143\n",
      "         48       0.74      0.54      0.62       239\n",
      "         49       0.57      0.44      0.50        45\n",
      "         50       0.45      0.19      0.27        26\n",
      "         51       0.36      0.14      0.21        28\n",
      "         52       0.93      0.71      0.80        58\n",
      "         53       0.00      0.00      0.00         8\n",
      "         54       0.75      0.10      0.18        86\n",
      "         55       1.00      0.58      0.74        24\n",
      "         56       0.67      0.48      0.56        66\n",
      "         57       0.50      0.21      0.30        19\n",
      "         58       0.52      0.34      0.42       221\n",
      "         59       0.94      0.89      0.92        56\n",
      "         60       0.72      0.81      0.76       331\n",
      "         61       0.56      0.20      0.29        25\n",
      "         62       0.67      0.31      0.42        26\n",
      "         63       0.67      0.62      0.64        60\n",
      "         64       0.27      0.11      0.16        36\n",
      "         65       0.62      0.47      0.53       164\n",
      "         66       0.71      0.72      0.72        68\n",
      "         67       0.00      0.00      0.00        24\n",
      "         68       0.18      0.06      0.09        35\n",
      "         69       0.95      0.67      0.78        27\n",
      "         70       0.59      0.72      0.65       336\n",
      "         71       0.82      0.45      0.58        20\n",
      "         72       0.50      0.24      0.33        33\n",
      "         73       0.82      0.27      0.41        66\n",
      "         74       0.82      0.97      0.89       719\n",
      "         75       0.68      0.44      0.53       104\n",
      "         76       0.50      0.37      0.43        27\n",
      "         77       0.77      0.42      0.55        57\n",
      "         78       0.75      0.76      0.75       990\n",
      "         79       0.00      0.00      0.00        19\n",
      "         80       0.74      0.40      0.52       202\n",
      "         81       0.94      0.46      0.62        35\n",
      "         82       0.69      0.26      0.37        86\n",
      "         83       0.65      0.48      0.55        50\n",
      "         84       0.81      0.91      0.86     11700\n",
      "\n",
      "avg / total       0.78      0.79      0.77     20675\n",
      "\n"
     ]
    }
   ],
   "source": [
    "print(clsfrprt)"
   ]
  },
  {
   "cell_type": "code",
   "execution_count": 90,
   "metadata": {
    "collapsed": true
   },
   "outputs": [],
   "source": [
    "# APPLYING K-FOLD CROSS VALIDATION\n",
    "from sklearn.model_selection import cross_val_score\n",
    "from sklearn   import metrics\n",
    "accuracies = cross_val_score(estimator = classifier, X = X_train, y = y_train, cv = 10, scoring = 'accuracy')"
   ]
  },
  {
   "cell_type": "code",
   "execution_count": 91,
   "metadata": {},
   "outputs": [
    {
     "name": "stdout",
     "output_type": "stream",
     "text": [
      "0.785021832274\n",
      "0.00361458946162\n"
     ]
    }
   ],
   "source": [
    "print(accuracies.mean())\n",
    "print(accuracies.std())"
   ]
  },
  {
   "cell_type": "code",
   "execution_count": null,
   "metadata": {
    "collapsed": true
   },
   "outputs": [],
   "source": [
    "# Very good and solid results, with small variance"
   ]
  }
 ],
 "metadata": {
  "kernelspec": {
   "display_name": "Python 3",
   "language": "python",
   "name": "python3"
  },
  "language_info": {
   "codemirror_mode": {
    "name": "ipython",
    "version": 3
   },
   "file_extension": ".py",
   "mimetype": "text/x-python",
   "name": "python",
   "nbconvert_exporter": "python",
   "pygments_lexer": "ipython3",
   "version": "3.6.3"
  }
 },
 "nbformat": 4,
 "nbformat_minor": 2
}
